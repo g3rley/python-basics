{
 "cells": [
  {
   "cell_type": "markdown",
   "metadata": {},
   "source": [
    "# Exercícios sobre Listas e Tuplas\n",
    "\n",
    "Resolva as seguintes questões sobre listas e tuplas no contexto da saga 'Star Wars'. Que a Força esteja com você!"
   ]
  },
  {
   "cell_type": "code",
   "execution_count": 1,
   "id": "69bfb41a",
   "metadata": {},
   "outputs": [],
   "source": [
    "# Não esqueça de importar as funções de validação\n",
    "\n",
    "import sys\n",
    "sys.path.append('../validations')"
   ]
  },
  {
   "cell_type": "markdown",
   "id": "9fdfd4ab",
   "metadata": {},
   "source": [
    "## Questão 1\n",
    "\n",
    "A Aliança Rebelde está investigando os planetas da galáxia em busca de possíveis aliados. Crie uma função chamada `filtrar_planetas` que receba uma lista de planetas e retorne uma nova lista apenas com os nomes dos planetas que possuem climas variados. Um planeta é considerado de clima variado se tiver mais de uma estação climática mencionada em sua descrição. A função deve ignorar maiúsculas e minúsculas. Para testar sua função, chame-a com a lista de planetas fornecida abaixo e imprima o resultado.\n",
    "\n",
    "```python\n",
    "planetas = ['Tatooine: Planeta desértico.', 'Naboo: Planeta com climas tropicais e temperados.', 'Hoth: Planeta gelado.', 'Kashyyyk: Planeta com florestas tropicais e temperadas.']\n",
    "```\n",
    "\n",
    "Implemente a função `filtrar_planetas`:"
   ]
  },
  {
   "cell_type": "code",
   "execution_count": 2,
   "id": "12d7e63d",
   "metadata": {},
   "outputs": [
    {
     "name": "stdout",
     "output_type": "stream",
     "text": [
      "['Naboo', 'Kashyyyk']\n"
     ]
    }
   ],
   "source": [
    "def filtrar_planetas(planetas):\n",
    "    planetas_filtrados = []\n",
    "    for planeta in planetas:\n",
    "        clima_planeta = planeta.split(':')[1].strip().lower()\n",
    "        if clima_planeta.count(' e ') > 0:\n",
    "            planetas_filtrados.append(planeta.split(':')[0].strip())\n",
    "    return planetas_filtrados\n",
    "\n",
    "planetas = ['Tatooine: Planeta desértico.', 'Naboo: Planeta com climas tropicais e temperados.', 'Hoth: Planeta gelado.', 'Kashyyyk: Planeta com florestas tropicais e temperadas.']\n",
    "resultado = filtrar_planetas(planetas)\n",
    "print(resultado)"
   ]
  },
  {
   "cell_type": "code",
   "execution_count": 3,
   "id": "18619fe0",
   "metadata": {},
   "outputs": [
    {
     "name": "stdout",
     "output_type": "stream",
     "text": [
      "Sua resposta está correta!\n"
     ]
    }
   ],
   "source": [
    "# Validação da resposta\n",
    "from listas_tuplas import verificar_resposta_1\n",
    "\n",
    "resultado_esperado_1 = ['Naboo', 'Kashyyyk']\n",
    "verificar_resposta_1(resultado)"
   ]
  },
  {
   "cell_type": "markdown",
   "id": "3be5765d",
   "metadata": {},
   "source": [
    "## Questão 2\n",
    "\n",
    "A Aliança Rebelde precisa reforçar sua frota de naves espaciais. Crie uma função chamada `verificar_naves` que receba uma lista de tuplas, onde cada tupla representa uma nave espacial e contém o nome da nave e sua quantidade de unidades disponíveis. A função deve retornar uma nova lista apenas com os nomes das naves que possuem mais de 3 unidades disponíveis. Para testar sua função, chame-a com a lista de naves fornecida abaixo e imprima o resultado.\n",
    "\n",
    "```python\n",
    "naves = [('Millennium Falcon', 2), ('X-Wing', 5), ('Y-Wing', 3), ('Star Destroyer', 6)]\n",
    "```\n",
    "\n",
    "Implemente a função `verificar_naves`:"
   ]
  },
  {
   "cell_type": "code",
   "execution_count": 4,
   "id": "7187b376",
   "metadata": {},
   "outputs": [
    {
     "name": "stdout",
     "output_type": "stream",
     "text": [
      "['X-Wing', 'Star Destroyer']\n"
     ]
    }
   ],
   "source": [
    "def verificar_naves(naves):\n",
    "    naves_disponiveis = []\n",
    "    for nave in naves:\n",
    "        if nave[1] > 3:\n",
    "            naves_disponiveis.append(nave[0])\n",
    "    return naves_disponiveis\n",
    "\n",
    "naves = [('Millennium Falcon', 2), ('X-Wing', 5), ('Y-Wing', 3), ('Star Destroyer', 6)]\n",
    "resultado = verificar_naves(naves)\n",
    "print(resultado)"
   ]
  },
  {
   "cell_type": "code",
   "execution_count": 5,
   "id": "145b9c33",
   "metadata": {},
   "outputs": [
    {
     "name": "stdout",
     "output_type": "stream",
     "text": [
      "Sua resposta está correta!\n"
     ]
    }
   ],
   "source": [
    "# Validação da resposta\n",
    "from listas_tuplas import verificar_resposta_2\n",
    "\n",
    "resultado_esperado_2 = ['X-Wing', 'Star Destroyer']\n",
    "verificar_resposta_2(resultado)"
   ]
  },
  {
   "cell_type": "markdown",
   "id": "3296a623",
   "metadata": {},
   "source": [
    "## Questão 3\n",
    "\n",
    "A Aliança Rebelde está analisando os números fornecidos por seus espiões. Crie uma função chamada `dobrar_numeros` que receba uma lista de números inteiros e retorne uma nova lista contendo o dobro de cada número. Para testar sua função, chame-a com a lista de números fornecida abaixo e imprima o resultado.\n",
    "\n",
    "```python\n",
    "numeros = [2, 3, 4, 5]\n",
    "```\n",
    "\n",
    "Implemente a função `dobrar_numeros`:"
   ]
  },
  {
   "cell_type": "code",
   "execution_count": 6,
   "id": "44712e1d",
   "metadata": {},
   "outputs": [
    {
     "name": "stdout",
     "output_type": "stream",
     "text": [
      "[4, 6, 8, 10]\n"
     ]
    }
   ],
   "source": [
    "def dobrar_numeros(numeros):\n",
    "    numeros_dobrados = [numero * 2 for numero in numeros]\n",
    "    return numeros_dobrados\n",
    "\n",
    "numeros = [2, 3, 4, 5]\n",
    "resultado = dobrar_numeros(numeros)\n",
    "print(resultado)"
   ]
  },
  {
   "cell_type": "code",
   "execution_count": 7,
   "id": "4f8eef7a",
   "metadata": {},
   "outputs": [
    {
     "name": "stdout",
     "output_type": "stream",
     "text": [
      "Sua resposta está correta!\n"
     ]
    }
   ],
   "source": [
    "# Validação da resposta\n",
    "from listas_tuplas import verificar_resposta_3\n",
    "\n",
    "resultado_esperado_3 = [4, 6, 8, 10]\n",
    "verificar_resposta_3(resultado)"
   ]
  },
  {
   "cell_type": "markdown",
   "id": "6ddb1901",
   "metadata": {},
   "source": [
    "## Questão 4\n",
    "\n",
    "A Aliança Rebelde está reunindo informações sobre os membros da tripulação de uma nave espacial. Crie uma função chamada `ordenar_tripulacao` que receba uma lista de tuplas, onde cada tupla representa um membro da tripulação e contém o nome e a função do membro. A função deve retornar uma nova lista de tuplas ordenadas em ordem alfabética pelo nome dos membros. Para testar sua função, chame-a com a lista de membros fornecida abaixo e imprima o resultado.\n",
    "\n",
    "```python\n",
    "tripulacao = [('Han Solo', 'Piloto'), ('Chewbacca', 'Copiloto'), ('Leia Organa', 'Comandante'), ('Luke Skywalker', 'Jedi')]\n",
    "```\n",
    "\n",
    "Implemente a função `ordenar_tripulacao`:"
   ]
  },
  {
   "cell_type": "code",
   "execution_count": 8,
   "id": "7ae3434c",
   "metadata": {},
   "outputs": [
    {
     "name": "stdout",
     "output_type": "stream",
     "text": [
      "[('Chewbacca', 'Copiloto'), ('Han Solo', 'Piloto'), ('Leia Organa', 'Comandante'), ('Luke Skywalker', 'Jedi')]\n"
     ]
    }
   ],
   "source": [
    "def ordenar_tripulacao(tripulacao):\n",
    "    tripulacao_ordenada = sorted(tripulacao, key=lambda x: x[0])\n",
    "    return tripulacao_ordenada\n",
    "\n",
    "tripulacao = [('Han Solo', 'Piloto'), ('Chewbacca', 'Copiloto'), ('Leia Organa', 'Comandante'), ('Luke Skywalker', 'Jedi')]\n",
    "resultado = ordenar_tripulacao(tripulacao)\n",
    "print(resultado)"
   ]
  },
  {
   "cell_type": "code",
   "execution_count": 9,
   "id": "afc2de91",
   "metadata": {},
   "outputs": [
    {
     "name": "stdout",
     "output_type": "stream",
     "text": [
      "Parabéns! Sua resposta está correta.\n"
     ]
    }
   ],
   "source": [
    "# Validação da resposta\n",
    "from listas_tuplas import verificar_resposta_4\n",
    "\n",
    "verificar_resposta_4(resultado)"
   ]
  }
 ],
 "metadata": {
  "kernelspec": {
   "display_name": "Python 3",
   "language": "python",
   "name": "python3"
  },
  "language_info": {
   "codemirror_mode": {
    "name": "ipython",
    "version": 3
   },
   "file_extension": ".py",
   "mimetype": "text/x-python",
   "name": "python",
   "nbconvert_exporter": "python",
   "pygments_lexer": "ipython3",
   "version": "3.10.8"
  }
 },
 "nbformat": 4,
 "nbformat_minor": 5
}
