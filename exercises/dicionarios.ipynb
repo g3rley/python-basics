{
 "cells": [
  {
   "cell_type": "markdown",
   "id": "527bbaef",
   "metadata": {},
   "source": [
    "# Exercícios sobre Dicionários\n",
    "\n",
    "Resolva as seguintes questões sobre dicionários no contexto da saga 'Star Wars'. Que a Força esteja com você!"
   ]
  },
  {
   "cell_type": "code",
   "execution_count": null,
   "id": "69bfb41a",
   "metadata": {},
   "outputs": [],
   "source": [
    "# Não esqueça de importar as funções de validação\n",
    "\n",
    "import sys\n",
    "sys.path.append('../validations')"
   ]
  },
  {
   "cell_type": "markdown",
   "id": "9fdfd4ab",
   "metadata": {},
   "source": [
    "## Questão 1\n",
    "\n",
    "O Império Galáctico está catalogando informações sobre os planetas da galáxia. Crie um dicionário chamado `planeta_info` que represente as informações sobre um planeta. As chaves do dicionário devem ser 'nome', 'clima' e 'terreno', e os valores correspondentes devem ser informações fictícias sobre um planeta à sua escolha. Imprima o dicionário completo.\n",
    "\n",
    "Implemente o dicionário `planeta_info`:"
   ]
  },
  {
   "cell_type": "code",
   "execution_count": 2,
   "id": "12d7e63d",
   "metadata": {},
   "outputs": [
    {
     "name": "stdout",
     "output_type": "stream",
     "text": [
      "{'nome': 'Tatooine', 'clima': 'Árido', 'terreno': 'Deserto'}\n"
     ]
    }
   ],
   "source": [
    "planeta_info = {\n",
    "    'nome': 'Tatooine',\n",
    "    'clima': 'Árido',\n",
    "    'terreno': 'Deserto'\n",
    "}\n",
    "\n",
    "print(planeta_info)"
   ]
  },
  {
   "cell_type": "code",
   "execution_count": 3,
   "id": "18619fe0",
   "metadata": {},
   "outputs": [
    {
     "name": "stdout",
     "output_type": "stream",
     "text": [
      "Sua resposta está correta!\n"
     ]
    }
   ],
   "source": [
    "# Validação da resposta\n",
    "from dicionarios import verificar_resposta_1\n",
    "\n",
    "resultado_esperado_1 = {\n",
    "    'nome': 'Tatooine',\n",
    "    'clima': 'Árido',\n",
    "    'terreno': 'Deserto'\n",
    "}\n",
    "verificar_resposta_1(planeta_info)"
   ]
  },
  {
   "cell_type": "markdown",
   "id": "3be5765d",
   "metadata": {},
   "source": [
    "## Questão 2\n",
    "\n",
    "O Império Galáctico está monitorando as naves espaciais da Aliança Rebelde. Crie um dicionário chamado `naves` que represente as informações sobre algumas naves. As chaves do dicionário devem ser os nomes das naves e os valores correspondentes devem ser o número de tripulantes de cada nave. Crie um dicionário com pelo menos 3 naves. Imprima o dicionário completo.\n",
    "\n",
    "Implemente o dicionário `naves`:"
   ]
  },
  {
   "cell_type": "code",
   "execution_count": 4,
   "id": "7187b376",
   "metadata": {},
   "outputs": [
    {
     "name": "stdout",
     "output_type": "stream",
     "text": [
      "{'Millennium Falcon': 4, 'X-Wing': 1, 'Star Destroyer': 1000}\n"
     ]
    }
   ],
   "source": [
    "naves = {\n",
    "    'Millennium Falcon': 4,\n",
    "    'X-Wing': 1,\n",
    "    'Star Destroyer': 1000\n",
    "}\n",
    "\n",
    "print(naves)"
   ]
  },
  {
   "cell_type": "code",
   "execution_count": 5,
   "id": "145b9c33",
   "metadata": {},
   "outputs": [
    {
     "name": "stdout",
     "output_type": "stream",
     "text": [
      "Sua resposta está correta!\n"
     ]
    }
   ],
   "source": [
    "# Validação da resposta\n",
    "from dicionarios import verificar_resposta_2\n",
    "\n",
    "resultado_esperado_2 = {\n",
    "    'Millennium Falcon': 4,\n",
    "    'X-Wing': 1,\n",
    "    'Star Destroyer': 1000\n",
    "}\n",
    "verificar_resposta_2(naves)"
   ]
  },
  {
   "cell_type": "markdown",
   "id": "3296a623",
   "metadata": {},
   "source": [
    "## Questão 3\n",
    "\n",
    "O Império Galáctico está criando uma base secreta em um planeta desconhecido. Crie um dicionário chamado `base_secreta` que represente as características da base. As chaves do dicionário devem ser 'localização', 'tamanho' e 'defesas', e os valores correspondentes devem ser informações fictícias sobre a base. Imprima o dicionário completo.\n",
    "\n",
    "Implemente o dicionário `base_secreta`:"
   ]
  },
  {
   "cell_type": "code",
   "execution_count": 6,
   "id": "44712e1d",
   "metadata": {},
   "outputs": [
    {
     "name": "stdout",
     "output_type": "stream",
     "text": [
      "{'localização': 'Desconhecida', 'tamanho': 'Grande', 'defesas': 'Escudos de energia'}\n"
     ]
    }
   ],
   "source": [
    "base_secreta = {\n",
    "    'localização': 'Desconhecida',\n",
    "    'tamanho': 'Grande',\n",
    "    'defesas': 'Escudos de energia'\n",
    "}\n",
    "\n",
    "print(base_secreta)"
   ]
  },
  {
   "cell_type": "code",
   "execution_count": 7,
   "id": "4f8eef7a",
   "metadata": {},
   "outputs": [
    {
     "name": "stdout",
     "output_type": "stream",
     "text": [
      "Sua resposta está correta!\n"
     ]
    }
   ],
   "source": [
    "# Validação da resposta\n",
    "from dicionarios import verificar_resposta_3\n",
    "\n",
    "resultado_esperado_3 = {\n",
    "    'localização': 'Desconhecida',\n",
    "    'tamanho': 'Grande',\n",
    "    'defesas': 'Escudos de energia'\n",
    "}\n",
    "verificar_resposta_3(base_secreta)"
   ]
  }
 ],
 "metadata": {
  "kernelspec": {
   "display_name": "Python 3",
   "language": "python",
   "name": "python3"
  },
  "language_info": {
   "codemirror_mode": {
    "name": "ipython",
    "version": 3
   },
   "file_extension": ".py",
   "mimetype": "text/x-python",
   "name": "python",
   "nbconvert_exporter": "python",
   "pygments_lexer": "ipython3",
   "version": "3.10.8"
  }
 },
 "nbformat": 4,
 "nbformat_minor": 5
}
